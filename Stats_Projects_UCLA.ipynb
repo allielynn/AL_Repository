{
 "cells": [
  {
   "cell_type": "markdown",
   "id": "de834ee3-99fc-4642-b9bb-e3b9840fc3e1",
   "metadata": {},
   "source": [
    "## Statistical Analysis Projects via UCLA\n",
    "\n",
    "For my projects in statistical analysis, I completed two significant studies. \n",
    "The first project focused on analyzing caffeine consumption patterns and their impacts. \n",
    "This involved collecting data through surveys and observational studies, and then applying various statistical techniques such as descriptive statistics, hypothesis testing, and regression analysis to uncover significant trends and relationships. \n",
    "LINK: [Caffiene Analysis](Caffiene Analysis.pdf)\n",
    "\n",
    "The second project centered on predicting NBA salaries using experimental design and linear modeling. \n",
    "In this study, I utilized comprehensive data analysis to identify key factors influencing player compensation, applying advanced statistical methods to build predictive models. \n",
    "LINK: [NBA Salary Analysis](NBA Salary Analysis.pdf)\n",
    "\n",
    "These projects allowed me to apply theoretical knowledge to practical problems, enhancing my skills in data analysis and interpretation."
   ]
  }
 ],
 "metadata": {
  "kernelspec": {
   "display_name": "Python 3 (ipykernel)",
   "language": "python",
   "name": "python3"
  },
  "language_info": {
   "codemirror_mode": {
    "name": "ipython",
    "version": 3
   },
   "file_extension": ".py",
   "mimetype": "text/x-python",
   "name": "python",
   "nbconvert_exporter": "python",
   "pygments_lexer": "ipython3",
   "version": "3.11.5"
  }
 },
 "nbformat": 4,
 "nbformat_minor": 5
}
