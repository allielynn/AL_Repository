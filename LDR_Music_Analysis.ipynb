{
 "cells": [
  {
   "cell_type": "markdown",
   "id": "bd9bcebe-2cf1-46ff-949a-2fbf5c0783c2",
   "metadata": {},
   "source": [
    "## Lana Del Rey Music Analysis"
   ]
  },
  {
   "cell_type": "code",
   "execution_count": 2,
   "id": "17415bd4-4f8e-43b4-b146-52731f0d9194",
   "metadata": {},
   "outputs": [
    {
     "name": "stdout",
     "output_type": "stream",
     "text": [
      "Requirement already satisfied: requests in c:\\users\\rc13736\\appdata\\local\\anaconda3\\lib\\site-packages (2.31.0)\n",
      "Requirement already satisfied: spotipy in c:\\users\\rc13736\\appdata\\local\\anaconda3\\lib\\site-packages (2.24.0)\n",
      "Requirement already satisfied: charset-normalizer<4,>=2 in c:\\users\\rc13736\\appdata\\local\\anaconda3\\lib\\site-packages (from requests) (2.0.4)\n",
      "Requirement already satisfied: idna<4,>=2.5 in c:\\users\\rc13736\\appdata\\local\\anaconda3\\lib\\site-packages (from requests) (3.4)\n",
      "Requirement already satisfied: urllib3<3,>=1.21.1 in c:\\users\\rc13736\\appdata\\local\\anaconda3\\lib\\site-packages (from requests) (2.0.7)\n",
      "Requirement already satisfied: certifi>=2017.4.17 in c:\\users\\rc13736\\appdata\\local\\anaconda3\\lib\\site-packages (from requests) (2024.6.2)\n",
      "Requirement already satisfied: redis>=3.5.3 in c:\\users\\rc13736\\appdata\\local\\anaconda3\\lib\\site-packages (from spotipy) (5.0.7)\n"
     ]
    }
   ],
   "source": [
    "!pip install requests spotipy"
   ]
  },
  {
   "cell_type": "code",
   "execution_count": 3,
   "id": "065772a8-857e-4af9-8346-398d122973eb",
   "metadata": {},
   "outputs": [],
   "source": [
    "import spotipy\n",
    "from http.server import BaseHTTPRequestHandler, HTTPServer\n",
    "import urllib.parse as urlparse"
   ]
  },
  {
   "cell_type": "code",
   "execution_count": 4,
   "id": "40728b67-c840-4490-b0b0-0dc0d2d245fd",
   "metadata": {},
   "outputs": [],
   "source": [
    "client_id = 'cd45358b132040b2b3cca21d71d5e2e2'\n",
    "client_secret = 'fa837301661d430db3f015e002d1af82'\n",
    "redirect_uri = 'http://localhost:9090/callback'\n",
    "scope = 'user-library-read'"
   ]
  },
  {
   "cell_type": "code",
   "execution_count": null,
   "id": "c3b21f12-5734-476f-86f7-1331b0b3e66c",
   "metadata": {},
   "outputs": [
    {
     "name": "stdout",
     "output_type": "stream",
     "text": [
      "Starting server at http://localhost:9090\n"
     ]
    }
   ],
   "source": [
    "class MyHandler(BaseHTTPRequestHandler):\n",
    "    def do_GET(self):\n",
    "        query = urlparse.urlparse(self.path).query\n",
    "        params = urlparse.parse_qs(query)\n",
    "        self.send_response(200)\n",
    "        self.send_header('Content-type', 'text/html')\n",
    "        self.end_headers()\n",
    "        self.wfile.write(b\"Authentication successful. You can close this window.\")\n",
    "\n",
    "        print(\"Starting Spotify authentication\")\n",
    "        # Handle the Spotify authentication here\n",
    "        sp = spotipy.Spotify(auth_manager=SpotifyOAuth(client_id=client_id,\n",
    "                                                       client_secret=client_secret,\n",
    "                                                       redirect_uri=redirect_url,\n",
    "                                                       scope=scope))\n",
    "        # Search for Lana Del Rey's albums\n",
    "        results = sp.search(q='artist:Lana Del Rey', type='album', limit = 50)\n",
    "        for idx, item in enumerate(results['albums']['items']):\n",
    "            print(f\"{idx + 1}. {item['name']}\")\n",
    "\n",
    "        # Fetch tracks from Lana Del Rey's albums\n",
    "        print(\"\\nTracks from Lana Del Rey's albums:\")\n",
    "        for album in results['albums']['items']:\n",
    "            album_id = album['id']\n",
    "            tracks = sp.album_tracks(album_id)\n",
    "            for track in tracks['items']:\n",
    "                print(f\" - {track['name']}\")\n",
    "\n",
    "if __name__ == '__main__':\n",
    "    server = HTTPServer(('localhost', 9090), MyHandler)\n",
    "    print('Starting server at http://localhost:9090')\n",
    "    server.serve_forever()"
   ]
  },
  {
   "cell_type": "code",
   "execution_count": null,
   "id": "f8fe146d-54df-4b79-8b83-1c4e1ca30c48",
   "metadata": {},
   "outputs": [],
   "source": [
    "python spotify_auth.py"
   ]
  }
 ],
 "metadata": {
  "kernelspec": {
   "display_name": "Python 3 (ipykernel)",
   "language": "python",
   "name": "python3"
  },
  "language_info": {
   "codemirror_mode": {
    "name": "ipython",
    "version": 3
   },
   "file_extension": ".py",
   "mimetype": "text/x-python",
   "name": "python",
   "nbconvert_exporter": "python",
   "pygments_lexer": "ipython3",
   "version": "3.11.7"
  }
 },
 "nbformat": 4,
 "nbformat_minor": 5
}
