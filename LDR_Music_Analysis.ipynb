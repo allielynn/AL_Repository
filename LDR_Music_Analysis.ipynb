{
 "cells": [
  {
   "cell_type": "markdown",
   "id": "bd9bcebe-2cf1-46ff-949a-2fbf5c0783c2",
   "metadata": {},
   "source": [
    "## Lana Del Rey Music Analysis"
   ]
  },
  {
   "cell_type": "code",
   "execution_count": 2,
   "id": "17415bd4-4f8e-43b4-b146-52731f0d9194",
   "metadata": {},
   "outputs": [
    {
     "name": "stdout",
     "output_type": "stream",
     "text": [
      "Requirement already satisfied: requests in c:\\users\\rc13736\\appdata\\local\\anaconda3\\lib\\site-packages (2.31.0)\n",
      "Requirement already satisfied: spotipy in c:\\users\\rc13736\\appdata\\local\\anaconda3\\lib\\site-packages (2.24.0)\n",
      "Requirement already satisfied: charset-normalizer<4,>=2 in c:\\users\\rc13736\\appdata\\local\\anaconda3\\lib\\site-packages (from requests) (2.0.4)\n",
      "Requirement already satisfied: idna<4,>=2.5 in c:\\users\\rc13736\\appdata\\local\\anaconda3\\lib\\site-packages (from requests) (3.4)\n",
      "Requirement already satisfied: urllib3<3,>=1.21.1 in c:\\users\\rc13736\\appdata\\local\\anaconda3\\lib\\site-packages (from requests) (2.0.7)\n",
      "Requirement already satisfied: certifi>=2017.4.17 in c:\\users\\rc13736\\appdata\\local\\anaconda3\\lib\\site-packages (from requests) (2024.6.2)\n",
      "Requirement already satisfied: redis>=3.5.3 in c:\\users\\rc13736\\appdata\\local\\anaconda3\\lib\\site-packages (from spotipy) (5.0.7)\n"
     ]
    }
   ],
   "source": [
    "!pip install requests spotipy"
   ]
  },
  {
   "cell_type": "code",
   "execution_count": 3,
   "id": "065772a8-857e-4af9-8346-398d122973eb",
   "metadata": {},
   "outputs": [],
   "source": [
    "import spotipy\n",
    "from http.server import BaseHTTPRequestHandler, HTTPServer\n",
    "import urllib.parse as urlparse"
   ]
  },
  {
   "cell_type": "code",
   "execution_count": 4,
   "id": "40728b67-c840-4490-b0b0-0dc0d2d245fd",
   "metadata": {},
   "outputs": [],
   "source": [
    "client_id = 'cd45358b132040b2b3cca21d71d5e2e2'\n",
    "client_secret = 'fa837301661d430db3f015e002d1af82'\n",
    "redirect_uri = 'http://localhost:9090/callback'\n",
    "scope = 'user-library-read'"
   ]
  },
  {
   "cell_type": "code",
   "execution_count": 5,
   "id": "c3b21f12-5734-476f-86f7-1331b0b3e66c",
   "metadata": {},
   "outputs": [
    {
     "name": "stdout",
     "output_type": "stream",
     "text": [
      "Starting server at http://localhost:9090\n"
     ]
    },
    {
     "name": "stderr",
     "output_type": "stream",
     "text": [
      "127.0.0.1 - - [10/Jul/2024 15:30:22] \"GET / HTTP/1.1\" 200 -\n",
      "----------------------------------------\n",
      "Exception occurred during processing of request from ('127.0.0.1', 49382)\n",
      "Traceback (most recent call last):\n",
      "  File \"C:\\Users\\rc13736\\AppData\\Local\\anaconda3\\Lib\\socketserver.py\", line 317, in _handle_request_noblock\n",
      "    self.process_request(request, client_address)\n",
      "  File \"C:\\Users\\rc13736\\AppData\\Local\\anaconda3\\Lib\\socketserver.py\", line 348, in process_request\n",
      "    self.finish_request(request, client_address)\n",
      "  File \"C:\\Users\\rc13736\\AppData\\Local\\anaconda3\\Lib\\socketserver.py\", line 361, in finish_request\n",
      "    self.RequestHandlerClass(request, client_address, self)\n",
      "  File \"C:\\Users\\rc13736\\AppData\\Local\\anaconda3\\Lib\\socketserver.py\", line 755, in __init__\n",
      "    self.handle()\n",
      "  File \"C:\\Users\\rc13736\\AppData\\Local\\anaconda3\\Lib\\http\\server.py\", line 436, in handle\n",
      "    self.handle_one_request()\n",
      "  File \"C:\\Users\\rc13736\\AppData\\Local\\anaconda3\\Lib\\http\\server.py\", line 424, in handle_one_request\n",
      "    method()\n",
      "  File \"C:\\Users\\rc13736\\AppData\\Local\\Temp\\ipykernel_32844\\3011649993.py\", line 12, in do_GET\n",
      "    sp = spotipy.Spotify(auth_manager=SpotifyOAuth(client_id=client_id,\n",
      "                                      ^^^^^^^^^^^^\n",
      "NameError: name 'SpotifyOAuth' is not defined\n",
      "----------------------------------------\n",
      "127.0.0.1 - - [10/Jul/2024 15:30:22] \"GET /favicon.ico HTTP/1.1\" 200 -\n",
      "----------------------------------------\n",
      "Exception occurred during processing of request from ('127.0.0.1', 49383)\n",
      "Traceback (most recent call last):\n",
      "  File \"C:\\Users\\rc13736\\AppData\\Local\\anaconda3\\Lib\\socketserver.py\", line 317, in _handle_request_noblock\n",
      "    self.process_request(request, client_address)\n",
      "  File \"C:\\Users\\rc13736\\AppData\\Local\\anaconda3\\Lib\\socketserver.py\", line 348, in process_request\n",
      "    self.finish_request(request, client_address)\n",
      "  File \"C:\\Users\\rc13736\\AppData\\Local\\anaconda3\\Lib\\socketserver.py\", line 361, in finish_request\n",
      "    self.RequestHandlerClass(request, client_address, self)\n",
      "  File \"C:\\Users\\rc13736\\AppData\\Local\\anaconda3\\Lib\\socketserver.py\", line 755, in __init__\n",
      "    self.handle()\n",
      "  File \"C:\\Users\\rc13736\\AppData\\Local\\anaconda3\\Lib\\http\\server.py\", line 436, in handle\n",
      "    self.handle_one_request()\n",
      "  File \"C:\\Users\\rc13736\\AppData\\Local\\anaconda3\\Lib\\http\\server.py\", line 424, in handle_one_request\n",
      "    method()\n",
      "  File \"C:\\Users\\rc13736\\AppData\\Local\\Temp\\ipykernel_32844\\3011649993.py\", line 12, in do_GET\n",
      "    sp = spotipy.Spotify(auth_manager=SpotifyOAuth(client_id=client_id,\n",
      "                                      ^^^^^^^^^^^^\n",
      "NameError: name 'SpotifyOAuth' is not defined\n",
      "----------------------------------------\n"
     ]
    },
    {
     "name": "stdout",
     "output_type": "stream",
     "text": [
      "Starting Spotify authentication\n",
      "Starting Spotify authentication\n"
     ]
    },
    {
     "name": "stderr",
     "output_type": "stream",
     "text": [
      "127.0.0.1 - - [10/Jul/2024 15:33:05] \"GET / HTTP/1.1\" 200 -\n",
      "----------------------------------------\n",
      "Exception occurred during processing of request from ('127.0.0.1', 49865)\n",
      "Traceback (most recent call last):\n",
      "  File \"C:\\Users\\rc13736\\AppData\\Local\\anaconda3\\Lib\\socketserver.py\", line 317, in _handle_request_noblock\n",
      "    self.process_request(request, client_address)\n",
      "  File \"C:\\Users\\rc13736\\AppData\\Local\\anaconda3\\Lib\\socketserver.py\", line 348, in process_request\n",
      "    self.finish_request(request, client_address)\n",
      "  File \"C:\\Users\\rc13736\\AppData\\Local\\anaconda3\\Lib\\socketserver.py\", line 361, in finish_request\n",
      "    self.RequestHandlerClass(request, client_address, self)\n",
      "  File \"C:\\Users\\rc13736\\AppData\\Local\\anaconda3\\Lib\\socketserver.py\", line 755, in __init__\n",
      "    self.handle()\n",
      "  File \"C:\\Users\\rc13736\\AppData\\Local\\anaconda3\\Lib\\http\\server.py\", line 436, in handle\n",
      "    self.handle_one_request()\n",
      "  File \"C:\\Users\\rc13736\\AppData\\Local\\anaconda3\\Lib\\http\\server.py\", line 424, in handle_one_request\n",
      "    method()\n",
      "  File \"C:\\Users\\rc13736\\AppData\\Local\\Temp\\ipykernel_32844\\3011649993.py\", line 12, in do_GET\n",
      "    sp = spotipy.Spotify(auth_manager=SpotifyOAuth(client_id=client_id,\n",
      "                                      ^^^^^^^^^^^^\n",
      "NameError: name 'SpotifyOAuth' is not defined\n",
      "----------------------------------------\n",
      "127.0.0.1 - - [10/Jul/2024 15:33:05] \"GET /favicon.ico HTTP/1.1\" 200 -\n",
      "----------------------------------------\n",
      "Exception occurred during processing of request from ('127.0.0.1', 49866)\n",
      "Traceback (most recent call last):\n",
      "  File \"C:\\Users\\rc13736\\AppData\\Local\\anaconda3\\Lib\\socketserver.py\", line 317, in _handle_request_noblock\n",
      "    self.process_request(request, client_address)\n",
      "  File \"C:\\Users\\rc13736\\AppData\\Local\\anaconda3\\Lib\\socketserver.py\", line 348, in process_request\n",
      "    self.finish_request(request, client_address)\n",
      "  File \"C:\\Users\\rc13736\\AppData\\Local\\anaconda3\\Lib\\socketserver.py\", line 361, in finish_request\n",
      "    self.RequestHandlerClass(request, client_address, self)\n",
      "  File \"C:\\Users\\rc13736\\AppData\\Local\\anaconda3\\Lib\\socketserver.py\", line 755, in __init__\n",
      "    self.handle()\n",
      "  File \"C:\\Users\\rc13736\\AppData\\Local\\anaconda3\\Lib\\http\\server.py\", line 436, in handle\n",
      "    self.handle_one_request()\n",
      "  File \"C:\\Users\\rc13736\\AppData\\Local\\anaconda3\\Lib\\http\\server.py\", line 424, in handle_one_request\n",
      "    method()\n",
      "  File \"C:\\Users\\rc13736\\AppData\\Local\\Temp\\ipykernel_32844\\3011649993.py\", line 12, in do_GET\n",
      "    sp = spotipy.Spotify(auth_manager=SpotifyOAuth(client_id=client_id,\n",
      "                                      ^^^^^^^^^^^^\n",
      "NameError: name 'SpotifyOAuth' is not defined\n",
      "----------------------------------------\n"
     ]
    },
    {
     "name": "stdout",
     "output_type": "stream",
     "text": [
      "Starting Spotify authentication\n",
      "Starting Spotify authentication\n"
     ]
    },
    {
     "ename": "KeyboardInterrupt",
     "evalue": "",
     "output_type": "error",
     "traceback": [
      "\u001b[1;31m---------------------------------------------------------------------------\u001b[0m",
      "\u001b[1;31mKeyboardInterrupt\u001b[0m                         Traceback (most recent call last)",
      "Cell \u001b[1;32mIn[5], line 32\u001b[0m\n\u001b[0;32m     30\u001b[0m server \u001b[38;5;241m=\u001b[39m HTTPServer((\u001b[38;5;124m'\u001b[39m\u001b[38;5;124mlocalhost\u001b[39m\u001b[38;5;124m'\u001b[39m, \u001b[38;5;241m9090\u001b[39m), MyHandler)\n\u001b[0;32m     31\u001b[0m \u001b[38;5;28mprint\u001b[39m(\u001b[38;5;124m'\u001b[39m\u001b[38;5;124mStarting server at http://localhost:9090\u001b[39m\u001b[38;5;124m'\u001b[39m)\n\u001b[1;32m---> 32\u001b[0m server\u001b[38;5;241m.\u001b[39mserve_forever()\n",
      "File \u001b[1;32m~\\AppData\\Local\\anaconda3\\Lib\\socketserver.py:233\u001b[0m, in \u001b[0;36mBaseServer.serve_forever\u001b[1;34m(self, poll_interval)\u001b[0m\n\u001b[0;32m    230\u001b[0m selector\u001b[38;5;241m.\u001b[39mregister(\u001b[38;5;28mself\u001b[39m, selectors\u001b[38;5;241m.\u001b[39mEVENT_READ)\n\u001b[0;32m    232\u001b[0m \u001b[38;5;28;01mwhile\u001b[39;00m \u001b[38;5;129;01mnot\u001b[39;00m \u001b[38;5;28mself\u001b[39m\u001b[38;5;241m.\u001b[39m__shutdown_request:\n\u001b[1;32m--> 233\u001b[0m     ready \u001b[38;5;241m=\u001b[39m selector\u001b[38;5;241m.\u001b[39mselect(poll_interval)\n\u001b[0;32m    234\u001b[0m     \u001b[38;5;66;03m# bpo-35017: shutdown() called during select(), exit immediately.\u001b[39;00m\n\u001b[0;32m    235\u001b[0m     \u001b[38;5;28;01mif\u001b[39;00m \u001b[38;5;28mself\u001b[39m\u001b[38;5;241m.\u001b[39m__shutdown_request:\n",
      "File \u001b[1;32m~\\AppData\\Local\\anaconda3\\Lib\\selectors.py:323\u001b[0m, in \u001b[0;36mSelectSelector.select\u001b[1;34m(self, timeout)\u001b[0m\n\u001b[0;32m    321\u001b[0m ready \u001b[38;5;241m=\u001b[39m []\n\u001b[0;32m    322\u001b[0m \u001b[38;5;28;01mtry\u001b[39;00m:\n\u001b[1;32m--> 323\u001b[0m     r, w, _ \u001b[38;5;241m=\u001b[39m \u001b[38;5;28mself\u001b[39m\u001b[38;5;241m.\u001b[39m_select(\u001b[38;5;28mself\u001b[39m\u001b[38;5;241m.\u001b[39m_readers, \u001b[38;5;28mself\u001b[39m\u001b[38;5;241m.\u001b[39m_writers, [], timeout)\n\u001b[0;32m    324\u001b[0m \u001b[38;5;28;01mexcept\u001b[39;00m \u001b[38;5;167;01mInterruptedError\u001b[39;00m:\n\u001b[0;32m    325\u001b[0m     \u001b[38;5;28;01mreturn\u001b[39;00m ready\n",
      "File \u001b[1;32m~\\AppData\\Local\\anaconda3\\Lib\\selectors.py:314\u001b[0m, in \u001b[0;36mSelectSelector._select\u001b[1;34m(self, r, w, _, timeout)\u001b[0m\n\u001b[0;32m    313\u001b[0m \u001b[38;5;28;01mdef\u001b[39;00m \u001b[38;5;21m_select\u001b[39m(\u001b[38;5;28mself\u001b[39m, r, w, _, timeout\u001b[38;5;241m=\u001b[39m\u001b[38;5;28;01mNone\u001b[39;00m):\n\u001b[1;32m--> 314\u001b[0m     r, w, x \u001b[38;5;241m=\u001b[39m select\u001b[38;5;241m.\u001b[39mselect(r, w, w, timeout)\n\u001b[0;32m    315\u001b[0m     \u001b[38;5;28;01mreturn\u001b[39;00m r, w \u001b[38;5;241m+\u001b[39m x, []\n",
      "\u001b[1;31mKeyboardInterrupt\u001b[0m: "
     ]
    }
   ],
   "source": [
    "class MyHandler(BaseHTTPRequestHandler):\n",
    "    def do_GET(self):\n",
    "        query = urlparse.urlparse(self.path).query\n",
    "        params = urlparse.parse_qs(query)\n",
    "        self.send_response(200)\n",
    "        self.send_header('Content-type', 'text/html')\n",
    "        self.end_headers()\n",
    "        self.wfile.write(b\"Authentication successful. You can close this window.\")\n",
    "\n",
    "        print(\"Starting Spotify authentication\")\n",
    "        # Handle the Spotify authentication here\n",
    "        sp = spotipy.Spotify(auth_manager=SpotifyOAuth(client_id=client_id,\n",
    "                                                       client_secret=client_secret,\n",
    "                                                       redirect_uri=redirect_url,\n",
    "                                                       scope=scope))\n",
    "        # Search for Lana Del Rey's albums\n",
    "        results = sp.search(q='artist:Lana Del Rey', type='album', limit = 50)\n",
    "        for idx, item in enumerate(results['albums']['items']):\n",
    "            print(f\"{idx + 1}. {item['name']}\")\n",
    "\n",
    "        # Fetch tracks from Lana Del Rey's albums\n",
    "        print(\"\\nTracks from Lana Del Rey's albums:\")\n",
    "        for album in results['albums']['items']:\n",
    "            album_id = album['id']\n",
    "            tracks = sp.album_tracks(album_id)\n",
    "            for track in tracks['items']:\n",
    "                print(f\" - {track['name']}\")\n",
    "\n",
    "if __name__ == '__main__':\n",
    "    server = HTTPServer(('localhost', 9090), MyHandler)\n",
    "    print('Starting server at http://localhost:9090')\n",
    "    server.serve_forever()"
   ]
  },
  {
   "cell_type": "code",
   "execution_count": null,
   "id": "f8fe146d-54df-4b79-8b83-1c4e1ca30c48",
   "metadata": {},
   "outputs": [],
   "source": [
    "python spotify_auth.py"
   ]
  }
 ],
 "metadata": {
  "kernelspec": {
   "display_name": "Python 3 (ipykernel)",
   "language": "python",
   "name": "python3"
  },
  "language_info": {
   "codemirror_mode": {
    "name": "ipython",
    "version": 3
   },
   "file_extension": ".py",
   "mimetype": "text/x-python",
   "name": "python",
   "nbconvert_exporter": "python",
   "pygments_lexer": "ipython3",
   "version": "3.11.7"
  }
 },
 "nbformat": 4,
 "nbformat_minor": 5
}
